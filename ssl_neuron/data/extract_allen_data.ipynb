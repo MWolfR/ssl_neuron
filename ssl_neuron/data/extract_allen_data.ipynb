{
 "cells": [
  {
   "cell_type": "code",
   "execution_count": 1,
   "id": "therapeutic-donor",
   "metadata": {},
   "outputs": [
    {
     "name": "stdout",
     "output_type": "stream",
     "text": [
      "env: CUDA_DEVICE_ORDER=PCI_BUS_ID\n",
      "env: CUDA_VISIBLE_DEVICES=0\n",
      "Populating the interactive namespace from numpy and matplotlib\n"
     ]
    }
   ],
   "source": [
    "%env CUDA_DEVICE_ORDER=PCI_BUS_ID\n",
    "%env CUDA_VISIBLE_DEVICES=0\n",
    "%pylab inline\n",
    "%load_ext autoreload\n",
    "%autoreload 2"
   ]
  },
  {
   "cell_type": "code",
   "execution_count": 2,
   "id": "stretch-novel",
   "metadata": {},
   "outputs": [],
   "source": [
    "from pathlib import Path\n",
    "import pickle\n",
    "import pandas as pd\n",
    "from tqdm import tqdm\n",
    "import networkx as nx\n",
    "from allensdk.core.cell_types_cache import CellTypesCache"
   ]
  },
  {
   "cell_type": "code",
   "execution_count": 3,
   "id": "liquid-chinese",
   "metadata": {},
   "outputs": [],
   "source": [
    "from ssl_neuron.data.data_utils import connect_graph, remove_axon, rotate_cell\n",
    "from ssl_neuron.utils import neighbors_to_adjacency, plot_neuron"
   ]
  },
  {
   "cell_type": "markdown",
   "id": "eight-ancient",
   "metadata": {},
   "source": [
    "#### Load ids"
   ]
  },
  {
   "cell_type": "code",
   "execution_count": 4,
   "id": "british-massachusetts",
   "metadata": {},
   "outputs": [],
   "source": [
    "cell_ids = list(np.load('all_ids.npy'))"
   ]
  },
  {
   "cell_type": "markdown",
   "id": "russian-package",
   "metadata": {},
   "source": [
    "#### Load Cell Types Database"
   ]
  },
  {
   "cell_type": "code",
   "execution_count": 5,
   "id": "offensive-nickname",
   "metadata": {},
   "outputs": [],
   "source": [
    "ctc = CellTypesCache(manifest_file='cell_types/manifest.json')"
   ]
  },
  {
   "cell_type": "markdown",
   "id": "hairy-myanmar",
   "metadata": {},
   "source": [
    "#### Load table with additional information"
   ]
  },
  {
   "cell_type": "code",
   "execution_count": 6,
   "id": "understanding-admission",
   "metadata": {},
   "outputs": [],
   "source": [
    "# Download link in readme (https://github.com/marissaweis/ssl_neuron/tree/main/ssl_neuron/data).\n",
    "df = pd.read_csv('41593_2019_417_MOESM5_ESM.csv', delimiter=';', decimal=\",\")"
   ]
  },
  {
   "cell_type": "markdown",
   "id": "regular-bathroom",
   "metadata": {},
   "source": [
    "#### Preprocess cells"
   ]
  },
  {
   "cell_type": "code",
   "execution_count": 7,
   "id": "recorded-google",
   "metadata": {},
   "outputs": [
    {
     "name": "stderr",
     "output_type": "stream",
     "text": [
      "100%|██████████| 430/430 [00:00<00:00, 2636770.06it/s]\n"
     ]
    }
   ],
   "source": [
    "for cell_id in tqdm(cell_ids):\n",
    "    path = Path('./skeletons/', str(cell_id))\n",
    "    path.mkdir(parents=True, exist_ok=True)\n",
    "\n",
    "    morphology = ctc.get_reconstruction(cell_id) \n",
    "    \n",
    "    # Rotate respecitve to pia.\n",
    "    morphology = rotate_cell(cell_id, morphology, df)\n",
    "\n",
    "    # Get soma coordinates.\n",
    "    soma = morphology.soma\n",
    "    soma_pos = np.array([soma['x'], soma['y'], soma['z']])\n",
    "    soma_id = soma['id']\n",
    "\n",
    "    # Process graph.\n",
    "    neighbors = {}\n",
    "    idx2node = {}\n",
    "    for i, item in enumerate(morphology.compartment_list):\n",
    "        # Get node features.\n",
    "        sec_type = [0, 0, 0, 0]\n",
    "        sec_type[item['type'] - 1] = 1\n",
    "        feat = tuple([item['x'], item['y'], item['z'], item['radius']]) + tuple(sec_type)\n",
    "        idx2node[i] = feat\n",
    "        \n",
    "        # Get neighbors.\n",
    "        neighbors[i] = set(item['children'])\n",
    "        if item['parent'] != -1:\n",
    "            neighbors[i].add(item['parent'])\n",
    "\n",
    "    features = np.array(list(idx2node.values()))\n",
    "    \n",
    "    assert ~np.any(np.isnan(features))\n",
    "    \n",
    "    # Normalize soma position to origin.\n",
    "    norm_features = features.copy()\n",
    "    norm_features[:, :3] = norm_features[:, :3] - soma_pos\n",
    "    \n",
    "    # Test if graph is connected.\n",
    "    adj_matrix = neighbors_to_adjacency(neighbors, range(len(neighbors)))\n",
    "    G = nx.Graph(adj_matrix)\n",
    "    if nx.number_connected_components(G) > 1:\n",
    "        adj_matrix, neighbors = connect_graph(adj_matrix, neighbors, features)\n",
    "        \n",
    "    assert len(neighbors) == len(adj_matrix)\n",
    "\n",
    "    # Remove axons.\n",
    "    neighbors, norm_features, soma_id = remove_axon(neighbors, norm_features, int(soma_id))\n",
    "\n",
    "    assert len(neighbors) == len(norm_features)\n",
    "    assert ~np.any(np.isnan(norm_features))\n",
    "\n",
    "    np.save(Path(path, 'features'), norm_features)\n",
    "    with open(Path(path, 'neighbors.pkl'), 'wb') as f:\n",
    "        pickle.dump(dict(neighbors), f, pickle.HIGHEST_PROTOCOL)"
   ]
  },
  {
   "cell_type": "markdown",
   "id": "drawn-japanese",
   "metadata": {},
   "source": [
    "#### Visualize neuron"
   ]
  },
  {
   "cell_type": "code",
   "execution_count": 8,
   "id": "nutritional-bolivia",
   "metadata": {},
   "outputs": [],
   "source": [
    "# Load neuronal data.\n",
    "path = Path('./skeletons/', '485835016')\n",
    "features = np.load(Path(path, 'features.npy'))\n",
    "with open(Path(path, 'neighbors.pkl'), 'rb') as f:\n",
    "    neighbors = pickle.load(f)"
   ]
  },
  {
   "cell_type": "code",
   "execution_count": 9,
   "id": "noble-innocent",
   "metadata": {},
   "outputs": [
    {
     "data": {
      "image/png": "[encoded data removed]",
      "text/plain": [
       "<Figure size 432x288 with 1 Axes>"
      ]
     },
     "metadata": {
      "needs_background": "light"
     },
     "output_type": "display_data"
    }
   ],
   "source": [
    "plot_neuron(neighbors, features)"
   ]
  },
  {
   "cell_type": "code",
   "execution_count": null,
   "id": "marine-jersey",
   "metadata": {},
   "outputs": [],
   "source": []
  }
 ],
 "metadata": {
  "kernelspec": {
   "display_name": "Python 3",
   "language": "python",
   "name": "python3"
  },
  "language_info": {
   "codemirror_mode": {
    "name": "ipython",
    "version": 3
   },
   "file_extension": ".py",
   "mimetype": "text/x-python",
   "name": "python",
   "nbconvert_exporter": "python",
   "pygments_lexer": "ipython3",
   "version": "3.8.6"
  }
 },
 "nbformat": 4,
 "nbformat_minor": 5
}
