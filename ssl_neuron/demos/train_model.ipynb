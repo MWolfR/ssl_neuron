{
 "cells": [
  {
   "cell_type": "code",
   "execution_count": null,
   "id": "visible-inside",
   "metadata": {},
   "outputs": [],
   "source": [
    "%env CUDA_DEVICE_ORDER=PCI_BUS_ID\n",
    "%env CUDA_VISIBLE_DEVICES=0\n",
    "%pylab inline\n",
    "%load_ext autoreload\n",
    "%autoreload 2"
   ]
  },
  {
   "cell_type": "code",
   "execution_count": null,
   "id": "continental-prescription",
   "metadata": {},
   "outputs": [],
   "source": [
    "import json\n",
    "from ssl_neuron.datasets import build_dataloader\n",
    "from ssl_neuron.graphdino import create_model\n",
    "from ssl_neuron.train import Trainer"
   ]
  },
  {
   "cell_type": "markdown",
   "id": "alike-passion",
   "metadata": {},
   "source": [
    "#### Load config"
   ]
  },
  {
   "cell_type": "code",
   "execution_count": null,
   "id": "critical-syndrome",
   "metadata": {},
   "outputs": [],
   "source": [
    "config = json.load(open('../configs/config.json'))"
   ]
  },
  {
   "cell_type": "markdown",
   "id": "weighted-stone",
   "metadata": {},
   "source": [
    "#### Load model"
   ]
  },
  {
   "cell_type": "code",
   "execution_count": null,
   "id": "covered-civilian",
   "metadata": {},
   "outputs": [],
   "source": [
    "model = create_model(config)\n",
    "model.train()\n",
    "model.cuda();"
   ]
  },
  {
   "cell_type": "markdown",
   "id": "unnecessary-buffer",
   "metadata": {},
   "source": [
    "#### Load dataset"
   ]
  },
  {
   "cell_type": "code",
   "execution_count": null,
   "id": "velvet-creation",
   "metadata": {},
   "outputs": [],
   "source": [
    "dataloaders = build_dataloader(config)"
   ]
  },
  {
   "cell_type": "markdown",
   "id": "through-tiffany",
   "metadata": {},
   "source": [
    "#### Run training"
   ]
  },
  {
   "cell_type": "code",
   "execution_count": null,
   "id": "corrected-seating",
   "metadata": {},
   "outputs": [],
   "source": [
    "trainer = Trainer(config, model, dataloaders)"
   ]
  },
  {
   "cell_type": "code",
   "execution_count": null,
   "id": "focal-afghanistan",
   "metadata": {},
   "outputs": [],
   "source": [
    "trainer.train()"
   ]
  },
  {
   "cell_type": "code",
   "execution_count": null,
   "id": "unsigned-melissa",
   "metadata": {},
   "outputs": [],
   "source": []
  }
 ],
 "metadata": {
  "kernelspec": {
   "display_name": "Python 3",
   "language": "python",
   "name": "python3"
  },
  "language_info": {
   "codemirror_mode": {
    "name": "ipython",
    "version": 3
   },
   "file_extension": ".py",
   "mimetype": "text/x-python",
   "name": "python",
   "nbconvert_exporter": "python",
   "pygments_lexer": "ipython3",
   "version": "3.8.6"
  }
 },
 "nbformat": 4,
 "nbformat_minor": 5
}
