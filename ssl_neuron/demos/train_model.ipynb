{
 "cells": [
  {
   "cell_type": "code",
   "execution_count": null,
   "id": "driven-robin",
   "metadata": {},
   "outputs": [],
   "source": [
    "%env CUDA_DEVICE_ORDER=PCI_BUS_ID\n",
    "%env CUDA_VISIBLE_DEVICES=0\n",
    "%pylab inline\n",
    "%load_ext autoreload\n",
    "%autoreload 2"
   ]
  },
  {
   "cell_type": "code",
   "execution_count": null,
   "id": "about-torture",
   "metadata": {},
   "outputs": [],
   "source": [
    "import json\n",
    "from ssl_neuron.datasets import build_dataloader\n",
    "from ssl_neuron.graphdino import create_model\n",
    "from ssl_neuron.train import Trainer"
   ]
  },
  {
   "cell_type": "markdown",
   "id": "norwegian-albuquerque",
   "metadata": {},
   "source": [
    "#### Load config"
   ]
  },
  {
   "cell_type": "code",
   "execution_count": null,
   "id": "disabled-removal",
   "metadata": {},
   "outputs": [],
   "source": [
    "config = json.load(open('../configs/config.json'))"
   ]
  },
  {
   "cell_type": "markdown",
   "id": "sharp-cause",
   "metadata": {},
   "source": [
    "#### Load model"
   ]
  },
  {
   "cell_type": "code",
   "execution_count": null,
   "id": "cosmetic-circulation",
   "metadata": {},
   "outputs": [],
   "source": [
    "model = create_model(config)\n",
    "model.train()\n",
    "model.cuda();"
   ]
  },
  {
   "cell_type": "markdown",
   "id": "insured-colony",
   "metadata": {},
   "source": [
    "#### Load dataset"
   ]
  },
  {
   "cell_type": "code",
   "execution_count": null,
   "id": "criminal-adventure",
   "metadata": {},
   "outputs": [],
   "source": [
    "dataloaders = build_dataloader(config)"
   ]
  },
  {
   "cell_type": "markdown",
   "id": "sought-ocean",
   "metadata": {},
   "source": [
    "#### Run training"
   ]
  },
  {
   "cell_type": "code",
   "execution_count": null,
   "id": "excellent-sacramento",
   "metadata": {},
   "outputs": [],
   "source": [
    "trainer = Trainer(config, model, dataloaders)"
   ]
  },
  {
   "cell_type": "code",
   "execution_count": null,
   "id": "assured-metallic",
   "metadata": {},
   "outputs": [],
   "source": [
    "trainer.train()"
   ]
  },
  {
   "cell_type": "code",
   "execution_count": null,
   "id": "behavioral-cross",
   "metadata": {},
   "outputs": [],
   "source": []
  }
 ],
 "metadata": {
  "kernelspec": {
   "display_name": "Python 3",
   "language": "python",
   "name": "python3"
  },
  "language_info": {
   "codemirror_mode": {
    "name": "ipython",
    "version": 3
   },
   "file_extension": ".py",
   "mimetype": "text/x-python",
   "name": "python",
   "nbconvert_exporter": "python",
   "pygments_lexer": "ipython3",
   "version": "3.8.6"
  }
 },
 "nbformat": 4,
 "nbformat_minor": 5
}
