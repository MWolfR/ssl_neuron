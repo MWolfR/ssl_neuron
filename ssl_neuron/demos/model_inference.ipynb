{
 "cells": [
  {
   "cell_type": "code",
   "execution_count": 1,
   "id": "exempt-orientation",
   "metadata": {},
   "outputs": [
    {
     "name": "stdout",
     "output_type": "stream",
     "text": [
      "env: CUDA_DEVICE_ORDER=PCI_BUS_ID\n",
      "env: CUDA_VISIBLE_DEVICES=0\n",
      "Populating the interactive namespace from numpy and matplotlib\n"
     ]
    }
   ],
   "source": [
    "%env CUDA_DEVICE_ORDER=PCI_BUS_ID\n",
    "%env CUDA_VISIBLE_DEVICES=0\n",
    "%pylab inline\n",
    "%load_ext autoreload\n",
    "%autoreload 2"
   ]
  },
  {
   "cell_type": "code",
   "execution_count": 2,
   "id": "prescribed-nepal",
   "metadata": {},
   "outputs": [],
   "source": [
    "import json\n",
    "import torch\n",
    "from tqdm import tqdm\n",
    "import seaborn as sns\n",
    "from sklearn.manifold import TSNE"
   ]
  },
  {
   "cell_type": "code",
   "execution_count": 3,
   "id": "related-influence",
   "metadata": {},
   "outputs": [],
   "source": [
    "from ssl_neuron.datasets import GraphDataset\n",
    "from ssl_neuron.utils import plot_neuron, plot_tsne, neighbors_to_adjacency_torch, compute_eig_lapl_torch_batch\n",
    "from ssl_neuron.graphdino import create_model"
   ]
  },
  {
   "cell_type": "markdown",
   "id": "revolutionary-chapel",
   "metadata": {},
   "source": [
    "#### Load config"
   ]
  },
  {
   "cell_type": "code",
   "execution_count": 4,
   "id": "fifth-credits",
   "metadata": {},
   "outputs": [],
   "source": [
    "config = json.load(open('../configs/config.json'))"
   ]
  },
  {
   "cell_type": "markdown",
   "id": "dependent-norway",
   "metadata": {},
   "source": [
    "#### Load model + checkpoint"
   ]
  },
  {
   "cell_type": "code",
   "execution_count": 5,
   "id": "passing-glass",
   "metadata": {},
   "outputs": [],
   "source": [
    "model = create_model(config)"
   ]
  },
  {
   "cell_type": "code",
   "execution_count": 6,
   "id": "stuffed-defendant",
   "metadata": {},
   "outputs": [],
   "source": [
    "state_dict = torch.load('../ckpts/ckpt.pt')"
   ]
  },
  {
   "cell_type": "code",
   "execution_count": 7,
   "id": "unauthorized-australian",
   "metadata": {},
   "outputs": [
    {
     "data": {
      "text/plain": [
       "<All keys matched successfully>"
      ]
     },
     "execution_count": 7,
     "metadata": {},
     "output_type": "execute_result"
    }
   ],
   "source": [
    "model.load_state_dict(state_dict)"
   ]
  },
  {
   "cell_type": "code",
   "execution_count": 8,
   "id": "prescription-fight",
   "metadata": {},
   "outputs": [],
   "source": [
    "model.eval()\n",
    "model.cuda();"
   ]
  },
  {
   "cell_type": "markdown",
   "id": "operating-quebec",
   "metadata": {},
   "source": [
    "#### Load dataset"
   ]
  },
  {
   "cell_type": "code",
   "execution_count": 9,
   "id": "monetary-evolution",
   "metadata": {},
   "outputs": [
    {
     "name": "stderr",
     "output_type": "stream",
     "text": [
      "100%|██████████| 430/430 [00:12<00:00, 35.48it/s]\n"
     ]
    }
   ],
   "source": [
    "dset = GraphDataset(config, mode='all')"
   ]
  },
  {
   "cell_type": "code",
   "execution_count": 10,
   "id": "dimensional-heaven",
   "metadata": {},
   "outputs": [],
   "source": [
    "feat, neigh = dset.__getsingleitem__(0)"
   ]
  },
  {
   "cell_type": "code",
   "execution_count": 11,
   "id": "polar-edward",
   "metadata": {},
   "outputs": [
    {
     "data": {
      "text/plain": [
       "((1000, 3), 1000)"
      ]
     },
     "execution_count": 11,
     "metadata": {},
     "output_type": "execute_result"
    }
   ],
   "source": [
    "feat.shape, len(neigh)"
   ]
  },
  {
   "cell_type": "markdown",
   "id": "excellent-dance",
   "metadata": {},
   "source": [
    "#### Plot neuron"
   ]
  },
  {
   "cell_type": "code",
   "execution_count": 12,
   "id": "spiritual-revelation",
   "metadata": {},
   "outputs": [
    {
     "data": {
      "image/png": "[encoded data removed]",
      "text/plain": [
       "<Figure size 432x288 with 1 Axes>"
      ]
     },
     "metadata": {
      "needs_background": "light"
     },
     "output_type": "display_data"
    }
   ],
   "source": [
    "plot_neuron(neigh, feat)"
   ]
  },
  {
   "cell_type": "markdown",
   "id": "deadly-retreat",
   "metadata": {},
   "source": [
    "#### Run inference"
   ]
  },
  {
   "cell_type": "code",
   "execution_count": 13,
   "id": "successful-newton",
   "metadata": {},
   "outputs": [
    {
     "name": "stderr",
     "output_type": "stream",
     "text": [
      "100%|██████████| 430/430 [00:20<00:00, 21.03it/s]\n"
     ]
    }
   ],
   "source": [
    "latents = np.zeros((dset.num_samples, config['model']['dim']))\n",
    "\n",
    "for i in tqdm(range(dset.num_samples)):\n",
    "    feat, neigh = dset.__getsingleitem__(i)\n",
    "    adj = neighbors_to_adjacency_torch(neigh, list(neigh.keys())).float().cuda()[None, ]\n",
    "    lapl = compute_eig_lapl_torch_batch(adj, pos_enc_dim=config['model']['pos_dim']).float().cuda()\n",
    "    feat = torch.from_numpy(feat).float().cuda()[None, ]\n",
    "    \n",
    "    latents[i] = model.student_encoder.forward(feat, adj, lapl)[0].cpu().detach()\n"
   ]
  },
  {
   "cell_type": "code",
   "execution_count": 14,
   "id": "competent-mobile",
   "metadata": {},
   "outputs": [
    {
     "data": {
      "text/plain": [
       "<ErrorbarContainer object of 3 artists>"
      ]
     },
     "execution_count": 14,
     "metadata": {},
     "output_type": "execute_result"
    },
    {
     "data": {
      "image/png": "[encoded data removed]",
      "text/plain": [
       "<Figure size 432x288 with 1 Axes>"
      ]
     },
     "metadata": {
      "needs_background": "light"
     },
     "output_type": "display_data"
    }
   ],
   "source": [
    "plt.scatter(np.arange(config['model']['dim']), latents.mean(axis=0))\n",
    "\n",
    "plt.errorbar(np.arange(config['model']['dim']), latents.mean(axis=0), yerr = latents.std(axis=0), fmt='none')"
   ]
  },
  {
   "cell_type": "code",
   "execution_count": 15,
   "id": "stylish-elevation",
   "metadata": {
    "jupyter": {
     "source_hidden": true
    }
   },
   "outputs": [],
   "source": [
    "colors = [list(sns.color_palette(\"mako\", n_colors=10)[3])] + [list(sns.color_palette(\"mako\", n_colors=10)[-2])]"
   ]
  },
  {
   "cell_type": "code",
   "execution_count": 16,
   "id": "genetic-trunk",
   "metadata": {},
   "outputs": [],
   "source": [
    "z = TSNE(n_components=2, perplexity=30).fit_transform(latents)"
   ]
  },
  {
   "cell_type": "code",
   "execution_count": 17,
   "id": "sorted-article",
   "metadata": {},
   "outputs": [
    {
     "data": {
      "image/png": "[encoded data removed]",
      "text/plain": [
       "<Figure size 576x576 with 1 Axes>"
      ]
     },
     "metadata": {
      "needs_background": "light"
     },
     "output_type": "display_data"
    }
   ],
   "source": [
    "plot_tsne(z, np.concatenate([np.zeros(200, dtype=int), np.ones(230, dtype=int)]), targets=['aspiny', 'spiny'], colors=[colors[1], colors[0]])"
   ]
  },
  {
   "cell_type": "code",
   "execution_count": null,
   "id": "protecting-gossip",
   "metadata": {},
   "outputs": [],
   "source": []
  }
 ],
 "metadata": {
  "kernelspec": {
   "display_name": "Python 3",
   "language": "python",
   "name": "python3"
  },
  "language_info": {
   "codemirror_mode": {
    "name": "ipython",
    "version": 3
   },
   "file_extension": ".py",
   "mimetype": "text/x-python",
   "name": "python",
   "nbconvert_exporter": "python",
   "pygments_lexer": "ipython3",
   "version": "3.8.6"
  }
 },
 "nbformat": 4,
 "nbformat_minor": 5
}
